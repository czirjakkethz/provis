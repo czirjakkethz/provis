{
 "cells": [
  {
   "cell_type": "markdown",
   "id": "2c2a41c2",
   "metadata": {},
   "source": [
    "# Welcome to Provis!\n",
    "\n",
    "\n",
    "This is an example file to showcase the functionalities of provis and the easiest way to run it.\n",
    "    \n",
    "This file should be located in the root directory, as specified in https://pro-vis.readthedocs.io/en/latest/setup.html#.\n",
    "\n",
    "Your pdb file should be located in \"root directory\"/data/pdb. \n",
    "All temporary files (xyzrn, mol2, pqr, face, vert, area) will be saved to \"root directory\"/data/tmp. \n",
    "Images of the plots will be saved to \"root directory\"/data/img\n"
   ]
  },
  {
   "cell_type": "code",
   "execution_count": 1,
   "id": "6b568d47",
   "metadata": {},
   "outputs": [],
   "source": [
    "import pyvista\n",
    "from provis.src.processing.protein import Protein\n",
    "from provis.src.processing.residue import Residue\n",
    "from provis.src.plotting.dynamic_structure import DynamicStructure\n"
   ]
  },
  {
   "cell_type": "markdown",
   "id": "c3824b38",
   "metadata": {},
   "source": [
    "# Define variables\n",
    "\n",
    "To keep things organized we define all input variables here.\n",
    "\n",
    " - name: Name of pdb file you want to visualize. If the file is located in \"root directory\"/data/pdb then it is enough to simply pass the name of the file. Otherwise a full path is needed. (Works with or without the \".pdb\" extension, eg.: \"2fd7.pdb\" OR \"2fd7\" OR \"{full path to file}/2fd7.pdb\" all work)\n",
    " - base_path: The path to the \"root directory\". As we are currently in the \"root directory\"/examples folder we do not have to set a base_path variable. The path will automatically be found.\n",
    " - density: \"Used to modify the default triangulation density (1.0 vertex/Angstrom^2). No test is done on the validity of this parameter. Typical values are 1.0 for large molecules (>1000 atoms) and 3.0 for smaller molecules.\" Argument passed to the msms binary. Not needed if you use the non-msms/native mesh. From the msms wiki: \n",
    " - plot_solvent: Set this to True if you want to plot the solvent atoms (water around the protein). Otherwise only the core molecule will be taken into consideration.\n",
    " - set_msms: Set this to True if you want to use the msms binary for the surface creation. You need to have the msms binary installed and EITHER the MSMS_BIN environment variable set to its path OR have the binary in the \"root directory\"/binaries folder.\n",
    " - set_notebook: Set this to True when using a Jupyter Notebook (like) environment. Keep as is, as this file is a notebook file."
   ]
  },
  {
   "cell_type": "code",
   "execution_count": 2,
   "id": "e3d2c561",
   "metadata": {},
   "outputs": [],
   "source": [
    "\n",
    "name = \"traj\" #\"1a3n\" # \"data/pdb/2fd7\" # \"data/pdb/1a3n\" # \"data/pdb/7nkd\" #\n",
    "base_path = None\n",
    "density = 3.0\n",
    "msms = True\n",
    "plot_solvent=False\n",
    "notebook=False"
   ]
  },
  {
   "cell_type": "markdown",
   "id": "c36e801d",
   "metadata": {},
   "source": [
    "# Initialize the main DynamicStructure class\n",
    "\n",
    "This class encapsulates the provis library. By initializing the class we precompute some of the necessairy information needed later for plotting.\n",
    "\n",
    "The DynamicStructure class is used for the plotting of dynamic structures. It is built similarly to the Protein class, but is not made up of Protein instances due to code architecture.\n",
    "The DynamicStructure class has its own member functions for plotting. These member functions loop through the full dynamic trajectory and plot every single model/molecule it consists of."
   ]
  },
  {
   "cell_type": "code",
   "execution_count": 3,
   "id": "261378de",
   "metadata": {},
   "outputs": [
    {
     "name": "stdout",
     "output_type": "stream",
     "text": [
      "xyzrn files already exist. No conversion needed\n",
      "Decomposing trajectory pdb file\n",
      "Initialized DynamicStructure class\n"
     ]
    }
   ],
   "source": [
    "\n",
    "ds = DynamicStructure(name, base_path=base_path, density=density, plot_solvent=plot_solvent, msms=msms, notebook=notebook)"
   ]
  },
  {
   "cell_type": "markdown",
   "id": "4115fadd",
   "metadata": {},
   "source": [
    "# Plotting\n",
    "\n",
    "We use the member functions of the DynamicStructure class for plotting.\n",
    "\n",
    "All plotting functions have five of the same input variables and some have more:\n",
    "- box (bool): Bounding box - If this is set to True a bounding box will appear around the plotted molecule.\n",
    "- res (Residue): Residue to be selected - Pass the residues you want to have selected on the plot as a  provis.src.processing.Residue object.\n",
    "- outname (str): Name of output file (with path) - If you do not want the screenshot of the plot to be saved in the default location with the default name you can change this variable.\n",
    "- camera (pyvista.camera) - Pass a Pyvista Camera https://docs.pyvista.org/api/core/camera.html to manually set the camera position. If nothing/None is passed then the camera position will be set to 'xy'. Default: None.\n",
    "- title (str) - Title of the plot window (not relevant for jupyter notebook).\n"
   ]
  },
  {
   "cell_type": "markdown",
   "id": "4cb4e5aa",
   "metadata": {},
   "source": [
    "The plot_surface() member function plots the surface of every single molecule within the trajectory. If the meshes are were already computed before and are saved as .obj files (in \"root directory\"/data/meshes) then they will be loaded from there. Otherwise the surface meshes will be computed on the go.\n",
    "\n",
    "- feature (str) - Pass which feature (coloring) you want to plot. Options: hydrophob, shape, charge. Default: None (uniform coloring).\n",
    "- patch (bool) - If True then coloring will be read in from \"root directory\"/data/tmp/{pdb_id}.pth file. Default: False.\n",
    "\n",
    "All the following input variables are of the default value.\n",
    "\n",
    "NOTICE: currently this function does not render the plots in Jupyter notebook, only saves the created mp4 file. You can view the created file by running the next code segment."
   ]
  },
  {
   "cell_type": "code",
   "execution_count": 4,
   "id": "24ed3845",
   "metadata": {},
   "outputs": [
    {
     "name": "stdout",
     "output_type": "stream",
     "text": [
      "MSMS mesh calculation for model id:  0\n",
      "MSMS mesh calculation for model id:  1\n",
      "MSMS mesh calculation for model id:  2\n",
      "MSMS mesh calculation for model id:  3\n",
      "MSMS mesh calculation for model id:  4\n",
      "MSMS mesh calculation for model id:  5\n",
      "MSMS mesh calculation for model id:  6\n",
      "MSMS mesh calculation for model id:  7\n",
      "MSMS mesh calculation for model id:  8\n",
      "MSMS mesh calculation for model id:  9\n",
      "MSMS mesh calculation for model id:  10\n",
      "MSMS mesh calculation for model id:  11\n",
      "MSMS mesh calculation for model id:  12\n",
      "MSMS mesh calculation for model id:  13\n",
      "MSMS mesh calculation for model id:  14\n",
      "MSMS mesh calculation for model id:  15\n",
      "MSMS mesh calculation for model id:  16\n",
      "MSMS mesh calculation for model id:  17\n",
      "MSMS mesh calculation for model id:  18\n",
      "MSMS mesh calculation for model id:  19\n",
      "MSMS mesh calculation for model id:  20\n",
      "MSMS mesh calculation for model id:  21\n",
      "MSMS mesh calculation for model id:  22\n",
      "MSMS mesh calculation for model id:  23\n",
      "MSMS mesh calculation for model id:  24\n",
      "MSMS mesh calculation for model id:  25\n",
      "MSMS mesh calculation for model id:  26\n",
      "MSMS mesh calculation for model id:  27\n",
      "MSMS mesh calculation for model id:  28\n",
      "MSMS mesh calculation for model id:  29\n",
      "MSMS mesh calculation for model id:  30\n",
      "MSMS mesh calculation for model id:  31\n",
      "MSMS mesh calculation for model id:  32\n",
      "MSMS mesh calculation for model id:  33\n",
      "MSMS mesh calculation for model id:  34\n",
      "MSMS mesh calculation for model id:  35\n",
      "MSMS mesh calculation for model id:  36\n",
      "MSMS mesh calculation for model id:  37\n",
      "MSMS mesh calculation for model id:  38\n",
      "MSMS mesh calculation for model id:  39\n",
      "MSMS mesh calculation for model id:  40\n",
      "MSMS mesh calculation for model id:  41\n",
      "MSMS mesh calculation for model id:  42\n",
      "MSMS mesh calculation for model id:  43\n",
      "MSMS mesh calculation for model id:  44\n",
      "MSMS mesh calculation for model id:  45\n",
      "MSMS mesh calculation for model id:  46\n",
      "MSMS mesh calculation for model id:  47\n",
      "MSMS mesh calculation for model id:  48\n",
      "MSMS mesh calculation for model id:  49\n",
      "MSMS mesh calculation for model id:  50\n",
      "MSMS mesh calculation for model id:  51\n",
      "MSMS mesh calculation for model id:  52\n",
      "MSMS mesh calculation for model id:  53\n",
      "MSMS mesh calculation for model id:  54\n",
      "MSMS mesh calculation for model id:  55\n",
      "MSMS mesh calculation for model id:  56\n",
      "MSMS mesh calculation for model id:  57\n",
      "MSMS mesh calculation for model id:  58\n",
      "MSMS mesh calculation for model id:  59\n",
      "MSMS mesh calculation for model id:  60\n",
      "MSMS mesh calculation for model id:  61\n",
      "MSMS mesh calculation for model id:  62\n",
      "MSMS mesh calculation for model id:  63\n",
      "MSMS mesh calculation for model id:  64\n",
      "MSMS mesh calculation for model id:  65\n",
      "MSMS mesh calculation for model id:  66\n",
      "MSMS mesh calculation for model id:  67\n",
      "MSMS mesh calculation for model id:  68\n",
      "MSMS mesh calculation for model id:  69\n",
      "MSMS mesh calculation for model id:  70\n",
      "MSMS mesh calculation for model id:  71\n",
      "MSMS mesh calculation for model id:  72\n",
      "MSMS mesh calculation for model id:  73\n",
      "MSMS mesh calculation for model id:  74\n",
      "MSMS mesh calculation for model id:  75\n",
      "MSMS mesh calculation for model id:  76\n",
      "MSMS mesh calculation for model id:  77\n",
      "MSMS mesh calculation for model id:  78\n",
      "MSMS mesh calculation for model id:  79\n",
      "MSMS mesh calculation for model id:  80\n",
      "MSMS mesh calculation for model id:  81\n",
      "MSMS mesh calculation for model id:  82\n",
      "MSMS mesh calculation for model id:  83\n",
      "MSMS mesh calculation for model id:  84\n",
      "MSMS mesh calculation for model id:  85\n",
      "MSMS mesh calculation for model id:  86\n",
      "MSMS mesh calculation for model id:  87\n",
      "MSMS mesh calculation for model id:  88\n",
      "MSMS mesh calculation for model id:  89\n",
      "MSMS mesh calculation for model id:  90\n",
      "MSMS mesh calculation for model id:  91\n",
      "MSMS mesh calculation for model id:  92\n",
      "MSMS mesh calculation for model id:  93\n",
      "MSMS mesh calculation for model id:  94\n",
      "MSMS mesh calculation for model id:  95\n",
      "MSMS mesh calculation for model id:  96\n",
      "MSMS mesh calculation for model id:  97\n",
      "MSMS mesh calculation for model id:  98\n",
      "MSMS mesh calculation for model id:  99\n",
      "MSMS mesh calculation for model id:  100\n"
     ]
    }
   ],
   "source": [
    "ds.plot_surface(feature=None, title=\"Surface\", patch=False, box=None, res=None, outname=None, camera=None)"
   ]
  },
  {
   "cell_type": "markdown",
   "id": "16d6f60d",
   "metadata": {},
   "source": [
    "Play the created animation:"
   ]
  },
  {
   "cell_type": "code",
   "execution_count": 1,
   "id": "1d57be4c",
   "metadata": {},
   "outputs": [
    {
     "data": {
      "text/html": [
       "<video src=\"animation.mp4\" controls  >\n",
       "      Your browser does not support the <code>video</code> element.\n",
       "    </video>"
      ],
      "text/plain": [
       "<IPython.core.display.Video object>"
      ]
     },
     "execution_count": 1,
     "metadata": {},
     "output_type": "execute_result"
    }
   ],
   "source": [
    "from IPython.display import Video\n",
    "\n",
    "Video(\"animation.mp4\")"
   ]
  },
  {
   "cell_type": "markdown",
   "id": "41e1dcc7",
   "metadata": {},
   "source": [
    "We can use the plot_atoms() function to plot the dynamic atom cloud. It takes the standard input variables as described in the section above."
   ]
  },
  {
   "cell_type": "code",
   "execution_count": null,
   "id": "ccb8cd7c",
   "metadata": {},
   "outputs": [],
   "source": [
    "ds.plot_atoms(box=False, res=None, outname=None, camera=None, title=\"Atoms\")"
   ]
  }
 ],
 "metadata": {
  "kernelspec": {
   "display_name": "Python 3",
   "language": "python",
   "name": "python3"
  },
  "language_info": {
   "codemirror_mode": {
    "name": "ipython",
    "version": 3
   },
   "file_extension": ".py",
   "mimetype": "text/x-python",
   "name": "python",
   "nbconvert_exporter": "python",
   "pygments_lexer": "ipython3",
   "version": "3.8.8"
  }
 },
 "nbformat": 4,
 "nbformat_minor": 5
}
