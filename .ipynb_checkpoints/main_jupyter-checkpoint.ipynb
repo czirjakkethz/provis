{
 "cells": [
  {
   "cell_type": "code",
   "execution_count": 3,
   "id": "1980c2a3",
   "metadata": {},
   "outputs": [
    {
     "data": {
      "application/vnd.jupyter.widget-view+json": {
       "model_id": "c062f366dd8c4d8bab939f873c8b347c",
       "version_major": 2,
       "version_minor": 0
      },
      "text/plain": [
       "ViewInteractiveWidget(height=768, layout=Layout(height='auto', width='100%'), width=1024)"
      ]
     },
     "metadata": {},
     "output_type": "display_data"
    }
   ],
   "source": [
    "\"\"\"\n",
    "This file was created by Kristof Czirjak as part of his Bachelor's Thesis - provis\n",
    "\"\"\"\n",
    "from provis.src.file_converter import FileConverter\n",
    "from provis.src.stick_point import StickPoint\n",
    "from provis.src.surface import Surface\n",
    "from provis.src.residue import Residue\n",
    "                                    \n",
    "def main():\n",
    "    name =  \"data/2fd7\" # \"data/1a3n\" # \"data/7nkd\" #\n",
    "    density = 3.0\n",
    "    solvent = 0\n",
    "    bash = 0\n",
    "    show_box = 1\n",
    "    \n",
    "    fc = FileConverter(name, density, solvent, bash)\n",
    "    \n",
    "#    ## plot stick point\n",
    "#    sp = StickPoint(name)\n",
    "#    sp.plot_atoms()\n",
    "#    sp.plot_bonds()\n",
    "#    sp.plot_vw()\n",
    "#    sp.plot_stick_point()\n",
    "#    r = Residue(1)\n",
    "#    sp.plot(atoms=1, box=1, bonds=1, vw=0, residues=0, res=0)\n",
    "#\n",
    "\n",
    "    ## plot surface\n",
    "    s = Surface(name)\n",
    "#     s.plot_msms_surface(dens=density)\n",
    "    s.plot_surface()\n",
    "\n",
    "if __name__ == \"__main__\":\n",
    "    main()\n",
    "\n",
    "# https://github.com/pv/pv-support/issues/374\n"
   ]
  },
  {
   "cell_type": "code",
   "execution_count": null,
   "id": "f54193bd",
   "metadata": {},
   "outputs": [],
   "source": []
  }
 ],
 "metadata": {
  "kernelspec": {
   "display_name": "Python 3",
   "language": "python",
   "name": "python3"
  },
  "language_info": {
   "codemirror_mode": {
    "name": "ipython",
    "version": 3
   },
   "file_extension": ".py",
   "mimetype": "text/x-python",
   "name": "python",
   "nbconvert_exporter": "python",
   "pygments_lexer": "ipython3",
   "version": "3.8.8"
  }
 },
 "nbformat": 4,
 "nbformat_minor": 5
}
