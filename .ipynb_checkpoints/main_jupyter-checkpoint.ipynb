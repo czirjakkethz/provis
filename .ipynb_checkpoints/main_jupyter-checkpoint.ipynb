{
 "cells": [
  {
   "cell_type": "code",
   "execution_count": 5,
   "id": "1980c2a3",
   "metadata": {},
   "outputs": [],
   "source": [
    "sequence_1 = 'MAAHKGAAAEHHEKGEHEQAAHHADTAYAHAEHHHKAAEHHEQAAKHHHAAHKGAAHKHAEEHAAQAAKHDAEHHAPKPH'\n",
    "# https://colab.research.google.com/github/deepmind/alphafold/blob/main/notebooks/AlphaFold.ipynb#scrollTo=woIxeCPygt7K"
   ]
  },
  {
   "cell_type": "code",
   "execution_count": 15,
   "id": "43d8ff56",
   "metadata": {},
   "outputs": [
    {
     "name": "stdout",
     "output_type": "stream",
     "text": [
      "hey\n"
     ]
    },
    {
     "data": {
      "application/vnd.jupyter.widget-view+json": {
       "model_id": "b0782e8667f04bf6a0cc299db629bcf8",
       "version_major": 2,
       "version_minor": 0
      },
      "text/plain": [
       "  0%|          | 0/100 [elapsed: 00:00 remaining: ?]"
      ]
     },
     "metadata": {},
     "output_type": "display_data"
    },
    {
     "name": "stderr",
     "output_type": "stream",
     "text": [
      "UsageError: Line magic function `%shell` not found.\n",
      "UsageError: Line magic function `%shell` not found.\n"
     ]
    }
   ],
   "source": [
    "%run ./https://colab.research.google.com/github/deepmind/alphafold/blob/main/notebooks/AlphaFold.ipynb#scrollTo=woIxeCPygt7K"
   ]
  },
  {
   "cell_type": "code",
   "execution_count": 12,
   "id": "f54193bd",
   "metadata": {},
   "outputs": [],
   "source": [
    "\"\"\"\n",
    "This file was created by Kristof Czirjak as part of his Bachelor's Thesis - provis\n",
    "\"\"\"\n",
    "from provis.src.processing.file_converter import FileConverter\n",
    "from provis.src.processing.residue import Residue\n",
    "from provis.src.plotting.stick_point import StickPoint\n",
    "from provis.src.plotting.surface import Surface\n",
    "\n",
    "def main():\n",
    "    \"\"\"\n",
    "    This is an example file to showcase all functionalities of provis.\n",
    "    \n",
    "    Provis has two main functionalities. Plotting the atoms and bonds as a stick and point model as well as plotting the surface information of the protein.\n",
    "    \"\"\"\n",
    "\n",
    "    # define variables needed later\n",
    "#     name = \"selected_prediction\" # \"1a3n\" # \"data/pdb/2fd7\" # \"data/pdb/1a3n\" # \"data/pdb/7nkd\" #\n",
    "#     density = 3.0\n",
    "#     solvent = 0\n",
    "#     bash = 0\n",
    "    \n",
    "#     # Create all the necessary files from the .pdb file\n",
    "#     fc = FileConverter(name, density, solvent, bash)\n",
    "    \n",
    "#     # Plot stick point\n",
    "#     # sp = StickPoint()\n",
    "#     # sp.plot_atoms()\n",
    "#     # sp.plot_bonds()\n",
    "#     # sp.plot_vw()\n",
    "#     # sp.plot_stick_point()\n",
    "#     # r = Residue(1)\n",
    "#     # r.add_residue(3)\n",
    "#     # r. add_residue(1, 1)\n",
    "#     # r.remove_residue(1, 1)\n",
    "#     # sp.plot(atoms=1, box=1, bonds=1, vw=0, residues=0, res=r)\n",
    "\n",
    "\n",
    "#     # Plot surface\n",
    "#     s = Surface(dens=density)\n",
    "#     s.plot_hydrophob()\n",
    "#     s.plot_surface()    \n",
    "#     s.plot_shape()\n",
    "#     s.plot_charge()\n",
    "\n",
    "#     # Clean up directories\n",
    "#     fc.cleanup(delete_img=0)\n",
    "\n",
    "if __name__ == \"__main__\":\n",
    "    main()\n",
    "\n"
   ]
  },
  {
   "cell_type": "code",
   "execution_count": null,
   "id": "95f2fd57",
   "metadata": {},
   "outputs": [],
   "source": []
  }
 ],
 "metadata": {
  "kernelspec": {
   "display_name": "Python 3 (ipykernel)",
   "language": "python",
   "name": "python3"
  },
  "language_info": {
   "codemirror_mode": {
    "name": "ipython",
    "version": 3
   },
   "file_extension": ".py",
   "mimetype": "text/x-python",
   "name": "python",
   "nbconvert_exporter": "python",
   "pygments_lexer": "ipython3",
   "version": "3.9.7"
  }
 },
 "nbformat": 4,
 "nbformat_minor": 5
}
