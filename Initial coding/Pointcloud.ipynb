{
 "cells": [
  {
   "cell_type": "code",
   "execution_count": 1,
   "metadata": {},
   "outputs": [
    {
     "data": {
      "application/vnd.jupyter.widget-view+json": {
       "model_id": "1fc42c6599954091a4d45dc07d30f8eb",
       "version_major": 2,
       "version_minor": 0
      },
      "text/plain": []
     },
     "metadata": {},
     "output_type": "display_data"
    },
    {
     "data": {
      "application/vnd.jupyter.widget-view+json": {
       "model_id": "58ab3379c5cd4d1f81d69e2da35e008e",
       "version_major": 2,
       "version_minor": 0
      },
      "text/plain": [
       "NGLWidget()"
      ]
     },
     "metadata": {},
     "output_type": "display_data"
    }
   ],
   "source": [
    "from Bio.PDB import *\n",
    "from Bio import SeqIO\n",
    "\n",
    "parser = PDBParser() # PERMISSIVE=1\n",
    "\n",
    "structure = parser.get_structure(\"2fd7\", \"2fd7.pdb\") #(\"7o86\", \"7o86.pdb\")\n",
    "\n",
    "import nglview as nv\n",
    "\n",
    "view = nv.show_biopython(structure)\n",
    "\n",
    "view"
   ]
  },
  {
   "cell_type": "code",
   "execution_count": 2,
   "metadata": {},
   "outputs": [
    {
     "name": "stdout",
     "output_type": "stream",
     "text": [
      "Sequence: 1, Length: 46\n",
      "TTCCPSIVARSNFNVCRLPGTPEALCATYTGCIIIPGATCPGDYAN\n",
      "\n",
      "Analyzed sequence\n",
      "<Bio.SeqUtils.ProtParam.ProteinAnalysis object at 0x00000205E05FE490>\n",
      "\n",
      "Gravy\n",
      "0.35434782608695664\n",
      "\n",
      "Mol weight\n",
      "4736.429800000002\n",
      "\n",
      "Amino acid count\n",
      "{'A': 5, 'C': 6, 'D': 1, 'E': 1, 'F': 1, 'G': 4, 'H': 0, 'I': 4, 'K': 0, 'L': 2, 'M': 0, 'N': 3, 'P': 5, 'Q': 0, 'R': 2, 'S': 2, 'T': 6, 'V': 2, 'W': 0, 'Y': 2}\n"
     ]
    }
   ],
   "source": [
    "polypeptide_builder = CaPPBuilder()\n",
    "counter = 1\n",
    "for polypeptide in polypeptide_builder.build_peptides(structure):\n",
    "    seq = polypeptide.get_sequence()\n",
    "    print(f\"Sequence: {counter}, Length: {len(seq)}\")\n",
    "    print(seq)\n",
    "    counter += 1\n",
    "\n",
    "from Bio.SeqUtils.ProtParam import ProteinAnalysis\n",
    "print(\"\\nAnalyzed sequence\")\n",
    "analyzed_seq = ProteinAnalysis(str(seq))\n",
    "print(analyzed_seq)\n",
    "\n",
    "print(\"\\nGravy\")\n",
    "print(analyzed_seq.gravy())\n",
    "\n",
    "print(\"\\nMol weight\")\n",
    "print(analyzed_seq.molecular_weight())\n",
    "\n",
    "print(\"\\nAmino acid count\")\n",
    "print(analyzed_seq.count_amino_acids())"
   ]
  },
  {
   "cell_type": "code",
   "execution_count": 61,
   "metadata": {},
   "outputs": [
    {
     "name": "stdout",
     "output_type": "stream",
     "text": [
      "Different method\n",
      "[-4.098 28.648 58.234]\n"
     ]
    }
   ],
   "source": [
    "#for atom in structure.get_atoms():\n",
    "    #print(atom)\n",
    "\n",
    "atoms = structure.get_atoms()\n",
    "atoms_list = list(atoms)\n",
    "\n",
    "for atom in atoms:\n",
    "    print(atom.coord)\n",
    "\n",
    "    \n",
    "residue = atom.get_parent()\n",
    "chain = residue.get_parent()\n",
    "atom_list = Selection.unfold_entities(chain, \"A\")\n",
    "print(\"Different method\")\n",
    "print(atom_list[0].coord)"
   ]
  },
  {
   "cell_type": "code",
   "execution_count": 55,
   "metadata": {},
   "outputs": [
    {
     "name": "stdout",
     "output_type": "stream",
     "text": [
      "hi\n",
      "[[ -4.09800005  28.64800072  58.23400116]\n",
      " [ -4.65199995  29.77300072  57.43299866]\n",
      " [ -4.03399992  31.07900047  57.91500092]\n",
      " ...\n",
      " [  8.75500011  28.5189991   58.16400146]\n",
      " [-13.65999985  32.51200104  54.94300079]\n",
      " [ -4.31899977  52.67599869  53.02099991]]\n"
     ]
    }
   ],
   "source": [
    "num_atoms = len(atoms_list)\n",
    "coord_array = np.empty((num_atoms, 3))\n",
    "\n",
    "print('hi')\n",
    "i = 0\n",
    "for atom in atoms_list:\n",
    "    coord_array[i] = atom.coord\n",
    "    i = i+1\n",
    "    \n",
    "\n",
    "#coord_array = np.array([atom.coord for atom in atoms])  \n",
    "\n",
    "print(coord_array)\n",
    "\n",
    "\n"
   ]
  },
  {
   "cell_type": "code",
   "execution_count": 63,
   "metadata": {},
   "outputs": [
    {
     "ename": "ModuleNotFoundError",
     "evalue": "No module named 'pyvista'",
     "output_type": "error",
     "traceback": [
      "\u001b[1;31m---------------------------------------------------------------------------\u001b[0m",
      "\u001b[1;31mModuleNotFoundError\u001b[0m                       Traceback (most recent call last)",
      "\u001b[1;32m<ipython-input-63-3fb5679d26ec>\u001b[0m in \u001b[0;36m<module>\u001b[1;34m\u001b[0m\n\u001b[0;32m      1\u001b[0m \u001b[1;32mimport\u001b[0m \u001b[0mnumpy\u001b[0m \u001b[1;32mas\u001b[0m \u001b[0mnp\u001b[0m\u001b[1;33m\u001b[0m\u001b[1;33m\u001b[0m\u001b[0m\n\u001b[1;32m----> 2\u001b[1;33m \u001b[1;32mimport\u001b[0m \u001b[0mpyvista\u001b[0m\u001b[1;33m\u001b[0m\u001b[1;33m\u001b[0m\u001b[0m\n\u001b[0m\u001b[0;32m      3\u001b[0m \u001b[1;33m\u001b[0m\u001b[0m\n\u001b[0;32m      4\u001b[0m \u001b[1;31m#point_cloud = np.random.random((100, 3))\u001b[0m\u001b[1;33m\u001b[0m\u001b[1;33m\u001b[0m\u001b[1;33m\u001b[0m\u001b[0m\n\u001b[0;32m      5\u001b[0m \u001b[0mcoord_array\u001b[0m\u001b[1;33m\u001b[0m\u001b[1;33m\u001b[0m\u001b[0m\n",
      "\u001b[1;31mModuleNotFoundError\u001b[0m: No module named 'pyvista'"
     ]
    }
   ],
   "source": [
    "import numpy as np\n",
    "import pyvista\n",
    "\n",
    "#point_cloud = np.random.random((100, 3))\n",
    "coord_array\n",
    "pdata = pyvista.PolyData(coord_array)\n",
    "pdata['orig_sphere'] = np.arange(100)\n",
    "\n",
    "# create many spheres from the point cloud\n",
    "sphere = pyvista.Sphere(radius=0.02, phi_resolution=10, theta_resolution=10)\n",
    "pc = pdata.glyph(scale=False, geom=sphere)\n",
    "pc.plot(cmap='Reds')"
   ]
  },
  {
   "cell_type": "code",
   "execution_count": 24,
   "metadata": {},
   "outputs": [
    {
     "ename": "TypeError",
     "evalue": "'generator' object is not subscriptable",
     "output_type": "error",
     "traceback": [
      "\u001b[1;31m---------------------------------------------------------------------------\u001b[0m",
      "\u001b[1;31mTypeError\u001b[0m                                 Traceback (most recent call last)",
      "\u001b[1;32m<ipython-input-24-37220ed9a67b>\u001b[0m in \u001b[0;36m<module>\u001b[1;34m\u001b[0m\n\u001b[0;32m      1\u001b[0m \u001b[1;31m# Get some atoms\u001b[0m\u001b[1;33m\u001b[0m\u001b[1;33m\u001b[0m\u001b[1;33m\u001b[0m\u001b[0m\n\u001b[1;32m----> 2\u001b[1;33m \u001b[0mca1\u001b[0m \u001b[1;33m=\u001b[0m \u001b[0matoms\u001b[0m\u001b[1;33m[\u001b[0m\u001b[1;34m\"CA\"\u001b[0m\u001b[1;33m]\u001b[0m\u001b[1;33m\u001b[0m\u001b[1;33m\u001b[0m\u001b[0m\n\u001b[0m\u001b[0;32m      3\u001b[0m \u001b[0mca2\u001b[0m \u001b[1;33m=\u001b[0m \u001b[0matoms\u001b[0m\u001b[1;33m[\u001b[0m\u001b[1;36m1\u001b[0m\u001b[1;33m]\u001b[0m\u001b[1;33m\u001b[0m\u001b[1;33m\u001b[0m\u001b[0m\n\u001b[0;32m      4\u001b[0m \u001b[1;31m# Simply subtract the atoms to get their distance\u001b[0m\u001b[1;33m\u001b[0m\u001b[1;33m\u001b[0m\u001b[1;33m\u001b[0m\u001b[0m\n\u001b[0;32m      5\u001b[0m \u001b[0mdistance\u001b[0m \u001b[1;33m=\u001b[0m \u001b[0mca1\u001b[0m \u001b[1;33m-\u001b[0m \u001b[0mca2\u001b[0m\u001b[1;33m\u001b[0m\u001b[1;33m\u001b[0m\u001b[0m\n",
      "\u001b[1;31mTypeError\u001b[0m: 'generator' object is not subscriptable"
     ]
    }
   ],
   "source": [
    "# Get some atoms\n",
    "ca1 = atoms[\"CA\"]\n",
    "ca2 = atoms[1]\n",
    "# Simply subtract the atoms to get their distance\n",
    "distance = ca1 - ca2\n"
   ]
  },
  {
   "cell_type": "code",
   "execution_count": null,
   "metadata": {},
   "outputs": [],
   "source": [
    "\"\"\"\n",
    "for seq_record in SeqIO.parse(\"7o86.pdb\", \"pdb-seqres\"):\n",
    "    print(seq_record.id)\n",
    "    print(repr(seq_record.seq))\n",
    "    print(len(seq_record))\n",
    "\"\"\""
   ]
  },
  {
   "cell_type": "code",
   "execution_count": null,
   "metadata": {},
   "outputs": [],
   "source": []
  }
 ],
 "metadata": {
  "kernelspec": {
   "display_name": "Python 3",
   "language": "python",
   "name": "python3"
  },
  "language_info": {
   "codemirror_mode": {
    "name": "ipython",
    "version": 3
   },
   "file_extension": ".py",
   "mimetype": "text/x-python",
   "name": "python",
   "nbconvert_exporter": "python",
   "pygments_lexer": "ipython3",
   "version": "3.8.5"
  }
 },
 "nbformat": 4,
 "nbformat_minor": 4
}
